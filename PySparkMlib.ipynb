{
  "nbformat": 4,
  "nbformat_minor": 0,
  "metadata": {
    "colab": {
      "provenance": [],
      "authorship_tag": "ABX9TyNIer5ze/Kd5IesWLeMgnSa",
      "include_colab_link": true
    },
    "kernelspec": {
      "name": "python3",
      "display_name": "Python 3"
    },
    "language_info": {
      "name": "python"
    }
  },
  "cells": [
    {
      "cell_type": "markdown",
      "metadata": {
        "id": "view-in-github",
        "colab_type": "text"
      },
      "source": [
        "<a href=\"https://colab.research.google.com/github/BrianGwayi/Data-Processig--pySpark/blob/main/PySparkMlib.ipynb\" target=\"_parent\"><img src=\"https://colab.research.google.com/assets/colab-badge.svg\" alt=\"Open In Colab\"/></a>"
      ]
    },
    {
      "cell_type": "code",
      "execution_count": 2,
      "metadata": {
        "colab": {
          "base_uri": "https://localhost:8080/"
        },
        "id": "04YgXXinHS84",
        "outputId": "14b0b8a5-ff0d-449f-b56b-178748262e55"
      },
      "outputs": [
        {
          "output_type": "stream",
          "name": "stdout",
          "text": [
            "Collecting pyspark\n",
            "  Downloading pyspark-3.5.1.tar.gz (317.0 MB)\n",
            "\u001b[2K     \u001b[90m━━━━━━━━━━━━━━━━━━━━━━━━━━━━━━━━━━━━━━━━\u001b[0m \u001b[32m317.0/317.0 MB\u001b[0m \u001b[31m3.5 MB/s\u001b[0m eta \u001b[36m0:00:00\u001b[0m\n",
            "\u001b[?25h  Preparing metadata (setup.py) ... \u001b[?25l\u001b[?25hdone\n",
            "Requirement already satisfied: py4j==0.10.9.7 in /usr/local/lib/python3.10/dist-packages (from pyspark) (0.10.9.7)\n",
            "Building wheels for collected packages: pyspark\n",
            "  Building wheel for pyspark (setup.py) ... \u001b[?25l\u001b[?25hdone\n",
            "  Created wheel for pyspark: filename=pyspark-3.5.1-py2.py3-none-any.whl size=317488493 sha256=253daca2a4a23b3846fd48856345aded3eccc00a02c5869213d4430b23c1b3a8\n",
            "  Stored in directory: /root/.cache/pip/wheels/80/1d/60/2c256ed38dddce2fdd93be545214a63e02fbd8d74fb0b7f3a6\n",
            "Successfully built pyspark\n",
            "Installing collected packages: pyspark\n",
            "Successfully installed pyspark-3.5.1\n"
          ]
        }
      ],
      "source": [
        "! pip install pyspark"
      ]
    },
    {
      "cell_type": "code",
      "source": [
        "from pyspark.sql import SparkSession\n",
        "spark = SparkSession.builder.appName(\"Banking\").getOrCreate()"
      ],
      "metadata": {
        "id": "KqU5q_MjHqGD"
      },
      "execution_count": 7,
      "outputs": []
    },
    {
      "cell_type": "code",
      "source": [
        "from google.colab import files\n",
        "files.upload()"
      ],
      "metadata": {
        "id": "OuX0HsNbH9kL"
      },
      "execution_count": null,
      "outputs": []
    },
    {
      "cell_type": "code",
      "source": [
        "df = spark.read.csv(\"/content/Basic Banking Analytics.csv\", header=True,inferSchema=True)"
      ],
      "metadata": {
        "id": "O_oadjiGLgOm"
      },
      "execution_count": 12,
      "outputs": []
    },
    {
      "cell_type": "code",
      "source": [
        "df.createOrReplaceTempView(\"df\")"
      ],
      "metadata": {
        "id": "OZe4fnppOX_t"
      },
      "execution_count": 15,
      "outputs": []
    },
    {
      "cell_type": "code",
      "source": [
        "df.show(5)"
      ],
      "metadata": {
        "colab": {
          "base_uri": "https://localhost:8080/"
        },
        "id": "4oCSakRTNDym",
        "outputId": "bd9866d5-70bd-4664-fb21-d27d9eff98c9"
      },
      "execution_count": 13,
      "outputs": [
        {
          "output_type": "stream",
          "name": "stdout",
          "text": [
            "+---------+---------------+---+------+-----------+-----------+----------------+-----------+--------------------+------------------+-------------+----------------------+--------------------+----------------+----------------------+----------------------+-------------------+------------+-------------+-----------------+---------------+------------------------+----------------+----------------+--------------+\n",
            "|Client ID|           Name|Age|   Sex|Location ID|Joined Bank| Banking Contact|Nationality|          Occupation|Investment Advisor|Fee Structure|Loyalty Classification|Banking Relationship|Estimated Income|Superannuation Savings|Amount of Credit Cards|Credit Card Balance|  Bank Loans|Bank Deposits|Checking Accounts|Saving Accounts|Foreign Currency Account|Business Lending|Properties Owned|Risk Weighting|\n",
            "+---------+---------------+---+------+-----------+-----------+----------------+-----------+--------------------+------------------+-------------+----------------------+--------------------+----------------+----------------------+----------------------+-------------------+------------+-------------+-----------------+---------------+------------------------+----------------+----------------+--------------+\n",
            "| PKR81288|  Raymond Mills| 24|  Male|      34324|   5/6/2019|  Anthony Torres|   American|Safety Technician IV|       Victor Dean|         High|                  Jade|              Retail|       75,384.77|             17,677.95|                     1|             484.54|  776,242.92| 1,485,828.64|       603,617.88|     607,332.46|               12,249.96|    1,134,475.30|               1|             2|\n",
            "| PKR65833|  Julia Spencer| 23|  Male|      42205| 12/10/2001|Jonathan Hawkins|    African| Software Consultant|     Jeremy Porter|         High|                  Jade|              Retail|      289,834.31|             17,398.92|                     1|           2,256.88|1,270,615.43|   641,482.79|       229,521.37|     344,635.16|               61,162.31|    2,000,526.10|               1|             3|\n",
            "| PKR47499| Stephen Murray| 27|Female|       7314|  1/25/2010|   Anthony Berry|   European|  Help Desk Operator|     Ernest Knight|         High|                  Gold|       Institutional|      169,935.23|             42,825.90|                     2|           4,568.74|1,052,715.84| 1,033,401.59|       652,674.69|     203,054.35|               79,071.78|      548,137.58|               1|             3|\n",
            "| PKR72498| Virginia Garza| 40|  Male|      34594|  3/28/1993|      Steve Diaz|   American|        Geologist II|         Eric Shaw|          Mid|                Silver|       Institutional|      356,808.11|              5,473.15|                     2|           4,205.00|  121,195.06| 1,048,157.49|     1,048,157.49|     234,685.02|               57,513.65|    1,148,402.29|               0|             4|\n",
            "| PKR60181|Melissa Sanders| 46|Female|      41269|  7/20/2012|      Shawn Long|   American| Assistant Professor|         Kevin Kim|          Mid|              Platinum|        Private Bank|      130,711.68|             48,077.60|                     1|           3,779.49|1,048,301.95|   487,782.53|       446,644.25|     128,351.45|               30,012.14|    1,674,412.12|               0|             3|\n",
            "+---------+---------------+---+------+-----------+-----------+----------------+-----------+--------------------+------------------+-------------+----------------------+--------------------+----------------+----------------------+----------------------+-------------------+------------+-------------+-----------------+---------------+------------------------+----------------+----------------+--------------+\n",
            "only showing top 5 rows\n",
            "\n"
          ]
        }
      ]
    },
    {
      "cell_type": "code",
      "source": [
        "spark.sql(\"select Name, Sex, Occupation, 'Location ID' from df\").show()"
      ],
      "metadata": {
        "colab": {
          "base_uri": "https://localhost:8080/"
        },
        "id": "y1S8bYjLOEo7",
        "outputId": "b6c74816-fdf2-4a4d-b06f-a35dbf767ef6"
      },
      "execution_count": 27,
      "outputs": [
        {
          "output_type": "stream",
          "name": "stdout",
          "text": [
            "+-----------------+------+--------------------+-----------+\n",
            "|             Name|   Sex|          Occupation|Location ID|\n",
            "+-----------------+------+--------------------+-----------+\n",
            "|    Raymond Mills|  Male|Safety Technician IV|Location ID|\n",
            "|    Julia Spencer|  Male| Software Consultant|Location ID|\n",
            "|   Stephen Murray|Female|  Help Desk Operator|Location ID|\n",
            "|   Virginia Garza|  Male|        Geologist II|Location ID|\n",
            "|  Melissa Sanders|Female| Assistant Professor|Location ID|\n",
            "|    Samuel Hudson|  Male|Help Desk Technician|Location ID|\n",
            "|Timothy Alexander|Female| Account Coordinator|Location ID|\n",
            "|      Carl Martin|Female|Automation Specia...|Location ID|\n",
            "|       Philip Day|Female|Software Test Eng...|Location ID|\n",
            "|       Jason Sims|  Male|       Geologist III|Location ID|\n",
            "|     Amy Martinez|  Male|Administrative Of...|Location ID|\n",
            "|   David Johnston|Female|Database Administ...|Location ID|\n",
            "|     Wayne Foster|Female|     Staff Scientist|Location ID|\n",
            "|     Carlos Moore|Female|        Programmer I|Location ID|\n",
            "|    Lisa Johnston|  Male|Software Test Eng...|Location ID|\n",
            "|     Andrew Mills|  Male|             Actuary|Location ID|\n",
            "|     Jack Coleman|Female| Staff Accountant II|Location ID|\n",
            "|        Aaron Day|Female|Assistant Media P...|Location ID|\n",
            "|     Kevin Weaver|Female|  Staff Accountant I|Location ID|\n",
            "|         Mary Fox|Female|Compensation Analyst|Location ID|\n",
            "+-----------------+------+--------------------+-----------+\n",
            "only showing top 20 rows\n",
            "\n"
          ]
        }
      ]
    },
    {
      "cell_type": "code",
      "source": [
        "spark.sql(\"select count(*) from df\").show()"
      ],
      "metadata": {
        "colab": {
          "base_uri": "https://localhost:8080/"
        },
        "id": "dDtg8cRVOlkL",
        "outputId": "10857566-3c7c-4e05-80b0-0cf82379252a"
      },
      "execution_count": 28,
      "outputs": [
        {
          "output_type": "stream",
          "name": "stdout",
          "text": [
            "+--------+\n",
            "|count(1)|\n",
            "+--------+\n",
            "|    3000|\n",
            "+--------+\n",
            "\n"
          ]
        }
      ]
    },
    {
      "cell_type": "code",
      "source": [
        "spark.sql(\"select avg(age) from df\").show()"
      ],
      "metadata": {
        "colab": {
          "base_uri": "https://localhost:8080/"
        },
        "id": "gNXifqcGQBYP",
        "outputId": "c5c75063-44a7-42b6-9eb4-12fac103ea49"
      },
      "execution_count": 29,
      "outputs": [
        {
          "output_type": "stream",
          "name": "stdout",
          "text": [
            "+-----------------+\n",
            "|         avg(age)|\n",
            "+-----------------+\n",
            "|51.03966666666667|\n",
            "+-----------------+\n",
            "\n"
          ]
        }
      ]
    },
    {
      "cell_type": "code",
      "source": [
        "spark.sql(\"select avg(age), Sex from df group by Sex\").show()"
      ],
      "metadata": {
        "colab": {
          "base_uri": "https://localhost:8080/"
        },
        "id": "yagFHrohQYqd",
        "outputId": "efd01f14-04a1-46e3-f0fa-d9b14efeca50"
      },
      "execution_count": 30,
      "outputs": [
        {
          "output_type": "stream",
          "name": "stdout",
          "text": [
            "+------------------+------+\n",
            "|          avg(age)|   Sex|\n",
            "+------------------+------+\n",
            "|50.789021164021165|Female|\n",
            "| 51.29435483870968|  Male|\n",
            "+------------------+------+\n",
            "\n"
          ]
        }
      ]
    },
    {
      "cell_type": "code",
      "source": [
        "df.show()"
      ],
      "metadata": {
        "colab": {
          "base_uri": "https://localhost:8080/"
        },
        "id": "WX8rERN1S-ZY",
        "outputId": "01934756-e65e-4e65-ca25-2d7fc7c92a4e"
      },
      "execution_count": 31,
      "outputs": [
        {
          "output_type": "stream",
          "name": "stdout",
          "text": [
            "+---------+-----------------+---+------+-----------+-----------+----------------+-----------+--------------------+------------------+-------------+----------------------+--------------------+----------------+----------------------+----------------------+-------------------+------------+-------------+-----------------+---------------+------------------------+----------------+----------------+--------------+\n",
            "|Client ID|             Name|Age|   Sex|Location ID|Joined Bank| Banking Contact|Nationality|          Occupation|Investment Advisor|Fee Structure|Loyalty Classification|Banking Relationship|Estimated Income|Superannuation Savings|Amount of Credit Cards|Credit Card Balance|  Bank Loans|Bank Deposits|Checking Accounts|Saving Accounts|Foreign Currency Account|Business Lending|Properties Owned|Risk Weighting|\n",
            "+---------+-----------------+---+------+-----------+-----------+----------------+-----------+--------------------+------------------+-------------+----------------------+--------------------+----------------+----------------------+----------------------+-------------------+------------+-------------+-----------------+---------------+------------------------+----------------+----------------+--------------+\n",
            "| PKR81288|    Raymond Mills| 24|  Male|      34324|   5/6/2019|  Anthony Torres|   American|Safety Technician IV|       Victor Dean|         High|                  Jade|              Retail|       75,384.77|             17,677.95|                     1|             484.54|  776,242.92| 1,485,828.64|       603,617.88|     607,332.46|               12,249.96|    1,134,475.30|               1|             2|\n",
            "| PKR65833|    Julia Spencer| 23|  Male|      42205| 12/10/2001|Jonathan Hawkins|    African| Software Consultant|     Jeremy Porter|         High|                  Jade|              Retail|      289,834.31|             17,398.92|                     1|           2,256.88|1,270,615.43|   641,482.79|       229,521.37|     344,635.16|               61,162.31|    2,000,526.10|               1|             3|\n",
            "| PKR47499|   Stephen Murray| 27|Female|       7314|  1/25/2010|   Anthony Berry|   European|  Help Desk Operator|     Ernest Knight|         High|                  Gold|       Institutional|      169,935.23|             42,825.90|                     2|           4,568.74|1,052,715.84| 1,033,401.59|       652,674.69|     203,054.35|               79,071.78|      548,137.58|               1|             3|\n",
            "| PKR72498|   Virginia Garza| 40|  Male|      34594|  3/28/1993|      Steve Diaz|   American|        Geologist II|         Eric Shaw|          Mid|                Silver|       Institutional|      356,808.11|              5,473.15|                     2|           4,205.00|  121,195.06| 1,048,157.49|     1,048,157.49|     234,685.02|               57,513.65|    1,148,402.29|               0|             4|\n",
            "| PKR60181|  Melissa Sanders| 46|Female|      41269|  7/20/2012|      Shawn Long|   American| Assistant Professor|         Kevin Kim|          Mid|              Platinum|        Private Bank|      130,711.68|             48,077.60|                     1|           3,779.49|1,048,301.95|   487,782.53|       446,644.25|     128,351.45|               30,012.14|    1,674,412.12|               0|             3|\n",
            "| PKR78532|    Samuel Hudson| 23|  Male|      13204|   2/7/2019|  Douglas Tucker|   American|Help Desk Technician|     Victor Rogers|         High|                Silver|        Private Bank|      118,326.96|              6,028.20|                     2|           5,148.56|  601,902.50| 1,307,269.41|       745,627.74|     238,310.37|               15,615.18|    1,556,031.06|               1|             2|\n",
            "| PKR95683|Timothy Alexander| 46|Female|      42910|   6/2/2002|  Douglas Tucker|      Asian| Account Coordinator| Eugene Cunningham|         High|                  Gold|       Institutional|       57,336.47|             13,929.16|                     1|             959.90|  208,909.69|    41,200.18|        60,588.50|      24,639.33|                3,045.78|      154,111.62|               1|             1|\n",
            "| PKR40785|      Carl Martin| 78|Female|       6127|  11/3/2000|      Steve Diaz|   European|Automation Specia...|       Joe Carroll|          Mid|                  Gold|              Retail|       65,125.80|             31,077.80|                     1|           4,576.58|1,140,704.80|   156,983.13|        53,889.73|      46,813.78|               51,979.19|    1,171,456.68|               0|             2|\n",
            "| PKR13570|       Philip Day| 67|Female|      32656|   4/7/2015|    Bruce Butler|      Asian|Software Test Eng...|     Steve Sanchez|         High|                Silver|        Private Bank|       87,849.47|              9,385.35|                     1|              78.62|  803,444.46| 1,242,347.22|       328,334.62|     279,528.12|               27,125.28|      464,560.28|               0|             1|\n",
            "| PKR53299|       Jason Sims| 51|  Male|      28340| 11/20/1995|       Joe Price|   European|       Geologist III|       Joe Carroll|          Mid|                Silver|       Institutional|       65,369.36|             27,364.80|                     3|           4,836.86|   60,027.90|   317,246.67|       111,532.03|     115,869.39|               48,043.52|      908,583.94|               2|             1|\n",
            "| PKR76263|     Amy Martinez| 55|  Male|      40459| 10/18/2014|  Adam Hernandez|   European|Administrative Of...|     Victor Rogers|         High|                  Jade|          Commercial|       74,966.51|             16,928.73|                     1|             493.32|  214,327.82|    37,979.77|        19,335.16|      52,204.92|               10,539.79|      353,119.93|               3|             1|\n",
            "| PKR56452|   David Johnston| 73|Female|      25563|  9/12/2005| Chris Armstrong|   American|Database Administ...| Eugene Cunningham|          Mid|                  Jade|          Commercial|      111,449.06|             17,480.19|                     2|             392.59|  580,468.51|   749,007.94|       204,991.65|     513,425.24|               22,904.91|      294,397.85|               0|             2|\n",
            "| PKR28766|     Wayne Foster| 45|Female|      35687|  3/17/2018|     Joshua Ryan|    African|     Staff Scientist|     Steve Sanchez|          Low|                Silver|       Institutional|      115,637.19|             10,848.60|                     1|           5,055.31|  815,250.64|   616,330.93|       208,277.35|     138,738.22|                6,336.65|      972,455.46|               3|             1|\n",
            "| PKR17897|     Carlos Moore| 44|Female|      19554|   1/2/1996|     Paul Larson|   American|        Programmer I|  Lawrence Sanchez|         High|                  Jade|          Commercial|      124,434.78|             26,146.00|                     2|           5,211.37|  984,792.50|   802,862.97|       263,714.11|     174,051.32|               68,855.49|      835,554.83|               0|             2|\n",
            "| PKR86325|    Lisa Johnston| 36|  Male|      33368|   6/5/1994| Mark Montgomery|      Asian|Software Test Eng...|     Ernest Knight|         High|              Platinum|        Private Bank|      260,795.34|             11,584.68|                     1|           2,866.34|  310,876.62|   116,399.86|        69,072.45|      67,077.02|               48,101.13|    1,136,169.30|               1|             2|\n",
            "| PKR74197|     Andrew Mills| 55|  Male|      27913|   1/6/1997|   Shawn Wallace|   European|             Actuary|    Peter Castillo|          Mid|                Silver|              Retail|       78,892.52|             32,369.71|                     1|           4,882.13|1,510,860.64|   317,542.21|       134,344.78|      71,284.16|               20,708.55|    2,283,081.57|               3|             2|\n",
            "| PKR28503|     Jack Coleman| 61|Female|       9505|  6/22/2014|   Ernest Rivera|      Asian| Staff Accountant II|  Lawrence Sanchez|         High|                Silver|              Retail|      257,120.22|             16,263.99|                     1|           8,614.06|  436,988.44| 2,446,251.57|     1,273,391.23|     253,337.83|               80,698.26|    1,128,082.14|               1|             3|\n",
            "| PKR56539|        Aaron Day| 56|Female|      36232|  1/19/1994| Gregory Simmons|      Asian|Assistant Media P...|  Victor Gutierrez|          Low|                  Jade|              Retail|      145,704.55|              3,078.27|                     1|           1,895.06|  384,153.37|    55,118.87|        25,590.90|      64,095.37|               10,492.37|      199,617.82|               3|             1|\n",
            "| PKR53604|     Kevin Weaver| 43|Female|       6299|  3/31/2019|     Frank Brown|   American|  Staff Accountant I|    Daniel Carroll|          Low|                  Jade|              Retail|       34,404.16|             19,668.40|                     2|           5,384.70|1,102,836.16|   204,450.83|        89,694.56|      35,877.82|               22,452.06|    1,115,542.44|               3|             1|\n",
            "| PKR32064|         Mary Fox| 63|Female|       7694|   3/9/2009|  Adam Hernandez| Australian|Compensation Analyst| Eugene Cunningham|          Mid|                  Jade|          Commercial|      129,060.88|             17,283.63|                     1|             395.58|1,000,409.32|   966,281.34|       472,404.21|     396,819.54|               37,271.05|    1,631,986.90|               2|             4|\n",
            "+---------+-----------------+---+------+-----------+-----------+----------------+-----------+--------------------+------------------+-------------+----------------------+--------------------+----------------+----------------------+----------------------+-------------------+------------+-------------+-----------------+---------------+------------------------+----------------+----------------+--------------+\n",
            "only showing top 20 rows\n",
            "\n"
          ]
        }
      ]
    }
  ]
}