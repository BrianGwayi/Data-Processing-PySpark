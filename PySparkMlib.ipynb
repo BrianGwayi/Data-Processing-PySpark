{
  "nbformat": 4,
  "nbformat_minor": 0,
  "metadata": {
    "colab": {
      "provenance": [],
      "authorship_tag": "ABX9TyP6UeLsq7qMKXJwfLGpdnUM",
      "include_colab_link": true
    },
    "kernelspec": {
      "name": "python3",
      "display_name": "Python 3"
    },
    "language_info": {
      "name": "python"
    }
  },
  "cells": [
    {
      "cell_type": "markdown",
      "metadata": {
        "id": "view-in-github",
        "colab_type": "text"
      },
      "source": [
        "<a href=\"https://colab.research.google.com/github/BrianGwayi/Data-Processig--pySpark/blob/main/PySparkMlib.ipynb\" target=\"_parent\"><img src=\"https://colab.research.google.com/assets/colab-badge.svg\" alt=\"Open In Colab\"/></a>"
      ]
    },
    {
      "cell_type": "code",
      "execution_count": 2,
      "metadata": {
        "colab": {
          "base_uri": "https://localhost:8080/"
        },
        "id": "04YgXXinHS84",
        "outputId": "14b0b8a5-ff0d-449f-b56b-178748262e55"
      },
      "outputs": [
        {
          "output_type": "stream",
          "name": "stdout",
          "text": [
            "Collecting pyspark\n",
            "  Downloading pyspark-3.5.1.tar.gz (317.0 MB)\n",
            "\u001b[2K     \u001b[90m━━━━━━━━━━━━━━━━━━━━━━━━━━━━━━━━━━━━━━━━\u001b[0m \u001b[32m317.0/317.0 MB\u001b[0m \u001b[31m3.5 MB/s\u001b[0m eta \u001b[36m0:00:00\u001b[0m\n",
            "\u001b[?25h  Preparing metadata (setup.py) ... \u001b[?25l\u001b[?25hdone\n",
            "Requirement already satisfied: py4j==0.10.9.7 in /usr/local/lib/python3.10/dist-packages (from pyspark) (0.10.9.7)\n",
            "Building wheels for collected packages: pyspark\n",
            "  Building wheel for pyspark (setup.py) ... \u001b[?25l\u001b[?25hdone\n",
            "  Created wheel for pyspark: filename=pyspark-3.5.1-py2.py3-none-any.whl size=317488493 sha256=253daca2a4a23b3846fd48856345aded3eccc00a02c5869213d4430b23c1b3a8\n",
            "  Stored in directory: /root/.cache/pip/wheels/80/1d/60/2c256ed38dddce2fdd93be545214a63e02fbd8d74fb0b7f3a6\n",
            "Successfully built pyspark\n",
            "Installing collected packages: pyspark\n",
            "Successfully installed pyspark-3.5.1\n"
          ]
        }
      ],
      "source": [
        "! pip install pyspark"
      ]
    },
    {
      "cell_type": "code",
      "source": [
        "from pyspark.sql import SparkSession\n",
        "spark = SparkSession.builder.appName(\"Banking\").getOrCreate()"
      ],
      "metadata": {
        "id": "KqU5q_MjHqGD"
      },
      "execution_count": 7,
      "outputs": []
    },
    {
      "cell_type": "code",
      "source": [
        "from google.colab import files\n",
        "files.upload()"
      ],
      "metadata": {
        "id": "OuX0HsNbH9kL"
      },
      "execution_count": null,
      "outputs": []
    },
    {
      "cell_type": "code",
      "source": [
        "df = spark.read.csv(\"/content/Basic Banking Analytics.csv\", header=True,inferSchema=True)"
      ],
      "metadata": {
        "id": "O_oadjiGLgOm"
      },
      "execution_count": 12,
      "outputs": []
    },
    {
      "cell_type": "code",
      "source": [
        "df.createOrReplaceTempView(\"df\")"
      ],
      "metadata": {
        "id": "OZe4fnppOX_t"
      },
      "execution_count": 15,
      "outputs": []
    },
    {
      "cell_type": "code",
      "source": [
        "df.show(5)"
      ],
      "metadata": {
        "colab": {
          "base_uri": "https://localhost:8080/"
        },
        "id": "4oCSakRTNDym",
        "outputId": "bd9866d5-70bd-4664-fb21-d27d9eff98c9"
      },
      "execution_count": 13,
      "outputs": [
        {
          "output_type": "stream",
          "name": "stdout",
          "text": [
            "+---------+---------------+---+------+-----------+-----------+----------------+-----------+--------------------+------------------+-------------+----------------------+--------------------+----------------+----------------------+----------------------+-------------------+------------+-------------+-----------------+---------------+------------------------+----------------+----------------+--------------+\n",
            "|Client ID|           Name|Age|   Sex|Location ID|Joined Bank| Banking Contact|Nationality|          Occupation|Investment Advisor|Fee Structure|Loyalty Classification|Banking Relationship|Estimated Income|Superannuation Savings|Amount of Credit Cards|Credit Card Balance|  Bank Loans|Bank Deposits|Checking Accounts|Saving Accounts|Foreign Currency Account|Business Lending|Properties Owned|Risk Weighting|\n",
            "+---------+---------------+---+------+-----------+-----------+----------------+-----------+--------------------+------------------+-------------+----------------------+--------------------+----------------+----------------------+----------------------+-------------------+------------+-------------+-----------------+---------------+------------------------+----------------+----------------+--------------+\n",
            "| PKR81288|  Raymond Mills| 24|  Male|      34324|   5/6/2019|  Anthony Torres|   American|Safety Technician IV|       Victor Dean|         High|                  Jade|              Retail|       75,384.77|             17,677.95|                     1|             484.54|  776,242.92| 1,485,828.64|       603,617.88|     607,332.46|               12,249.96|    1,134,475.30|               1|             2|\n",
            "| PKR65833|  Julia Spencer| 23|  Male|      42205| 12/10/2001|Jonathan Hawkins|    African| Software Consultant|     Jeremy Porter|         High|                  Jade|              Retail|      289,834.31|             17,398.92|                     1|           2,256.88|1,270,615.43|   641,482.79|       229,521.37|     344,635.16|               61,162.31|    2,000,526.10|               1|             3|\n",
            "| PKR47499| Stephen Murray| 27|Female|       7314|  1/25/2010|   Anthony Berry|   European|  Help Desk Operator|     Ernest Knight|         High|                  Gold|       Institutional|      169,935.23|             42,825.90|                     2|           4,568.74|1,052,715.84| 1,033,401.59|       652,674.69|     203,054.35|               79,071.78|      548,137.58|               1|             3|\n",
            "| PKR72498| Virginia Garza| 40|  Male|      34594|  3/28/1993|      Steve Diaz|   American|        Geologist II|         Eric Shaw|          Mid|                Silver|       Institutional|      356,808.11|              5,473.15|                     2|           4,205.00|  121,195.06| 1,048,157.49|     1,048,157.49|     234,685.02|               57,513.65|    1,148,402.29|               0|             4|\n",
            "| PKR60181|Melissa Sanders| 46|Female|      41269|  7/20/2012|      Shawn Long|   American| Assistant Professor|         Kevin Kim|          Mid|              Platinum|        Private Bank|      130,711.68|             48,077.60|                     1|           3,779.49|1,048,301.95|   487,782.53|       446,644.25|     128,351.45|               30,012.14|    1,674,412.12|               0|             3|\n",
            "+---------+---------------+---+------+-----------+-----------+----------------+-----------+--------------------+------------------+-------------+----------------------+--------------------+----------------+----------------------+----------------------+-------------------+------------+-------------+-----------------+---------------+------------------------+----------------+----------------+--------------+\n",
            "only showing top 5 rows\n",
            "\n"
          ]
        }
      ]
    },
    {
      "cell_type": "code",
      "source": [
        "spark.sql(\"select Name, Sex, Occupation, 'Location ID' from df\").show()"
      ],
      "metadata": {
        "colab": {
          "base_uri": "https://localhost:8080/"
        },
        "id": "y1S8bYjLOEo7",
        "outputId": "b6c74816-fdf2-4a4d-b06f-a35dbf767ef6"
      },
      "execution_count": 27,
      "outputs": [
        {
          "output_type": "stream",
          "name": "stdout",
          "text": [
            "+-----------------+------+--------------------+-----------+\n",
            "|             Name|   Sex|          Occupation|Location ID|\n",
            "+-----------------+------+--------------------+-----------+\n",
            "|    Raymond Mills|  Male|Safety Technician IV|Location ID|\n",
            "|    Julia Spencer|  Male| Software Consultant|Location ID|\n",
            "|   Stephen Murray|Female|  Help Desk Operator|Location ID|\n",
            "|   Virginia Garza|  Male|        Geologist II|Location ID|\n",
            "|  Melissa Sanders|Female| Assistant Professor|Location ID|\n",
            "|    Samuel Hudson|  Male|Help Desk Technician|Location ID|\n",
            "|Timothy Alexander|Female| Account Coordinator|Location ID|\n",
            "|      Carl Martin|Female|Automation Specia...|Location ID|\n",
            "|       Philip Day|Female|Software Test Eng...|Location ID|\n",
            "|       Jason Sims|  Male|       Geologist III|Location ID|\n",
            "|     Amy Martinez|  Male|Administrative Of...|Location ID|\n",
            "|   David Johnston|Female|Database Administ...|Location ID|\n",
            "|     Wayne Foster|Female|     Staff Scientist|Location ID|\n",
            "|     Carlos Moore|Female|        Programmer I|Location ID|\n",
            "|    Lisa Johnston|  Male|Software Test Eng...|Location ID|\n",
            "|     Andrew Mills|  Male|             Actuary|Location ID|\n",
            "|     Jack Coleman|Female| Staff Accountant II|Location ID|\n",
            "|        Aaron Day|Female|Assistant Media P...|Location ID|\n",
            "|     Kevin Weaver|Female|  Staff Accountant I|Location ID|\n",
            "|         Mary Fox|Female|Compensation Analyst|Location ID|\n",
            "+-----------------+------+--------------------+-----------+\n",
            "only showing top 20 rows\n",
            "\n"
          ]
        }
      ]
    },
    {
      "cell_type": "code",
      "source": [
        "spark.sql(\"select count(*) from df\").show()"
      ],
      "metadata": {
        "colab": {
          "base_uri": "https://localhost:8080/"
        },
        "id": "dDtg8cRVOlkL",
        "outputId": "10857566-3c7c-4e05-80b0-0cf82379252a"
      },
      "execution_count": 28,
      "outputs": [
        {
          "output_type": "stream",
          "name": "stdout",
          "text": [
            "+--------+\n",
            "|count(1)|\n",
            "+--------+\n",
            "|    3000|\n",
            "+--------+\n",
            "\n"
          ]
        }
      ]
    },
    {
      "cell_type": "code",
      "source": [
        "spark.sql(\"select avg(age) from df\").show()"
      ],
      "metadata": {
        "colab": {
          "base_uri": "https://localhost:8080/"
        },
        "id": "gNXifqcGQBYP",
        "outputId": "c5c75063-44a7-42b6-9eb4-12fac103ea49"
      },
      "execution_count": 29,
      "outputs": [
        {
          "output_type": "stream",
          "name": "stdout",
          "text": [
            "+-----------------+\n",
            "|         avg(age)|\n",
            "+-----------------+\n",
            "|51.03966666666667|\n",
            "+-----------------+\n",
            "\n"
          ]
        }
      ]
    },
    {
      "cell_type": "code",
      "source": [
        "spark.sql(\"select avg(age), Sex from df group by Sex\").show()"
      ],
      "metadata": {
        "colab": {
          "base_uri": "https://localhost:8080/"
        },
        "id": "yagFHrohQYqd",
        "outputId": "efd01f14-04a1-46e3-f0fa-d9b14efeca50"
      },
      "execution_count": 30,
      "outputs": [
        {
          "output_type": "stream",
          "name": "stdout",
          "text": [
            "+------------------+------+\n",
            "|          avg(age)|   Sex|\n",
            "+------------------+------+\n",
            "|50.789021164021165|Female|\n",
            "| 51.29435483870968|  Male|\n",
            "+------------------+------+\n",
            "\n"
          ]
        }
      ]
    }
  ]
}